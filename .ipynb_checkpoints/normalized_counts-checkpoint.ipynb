{
 "cells": [
  {
   "cell_type": "code",
   "execution_count": 137,
   "metadata": {},
   "outputs": [],
   "source": [
    "import pandas as pd\n",
    "import numpy as np"
   ]
  },
  {
   "cell_type": "code",
   "execution_count": 138,
   "metadata": {},
   "outputs": [],
   "source": [
    "reads = pd.read_table(\"./AlkB_normalized_counts.txt\")\n",
    "reads.astype(float)\n",
    "reads = reads.reset_index()\n",
    "reads.rename(index=str, columns={\"index\": \"locus\"})\n",
    "reads_mock = reads.filter([\"index\",\"X9.unique.bam\", \"X11.unique.bam\", \"X13.unique.bam\", \"X15.unique.bam\"])\n",
    "reads_infected = reads.filter([\"index\",\"X10.unique.bam\", \"X12.unique.bam\", \"X14.unique.bam\", \"X16.unique.bam\"])"
   ]
  },
  {
   "cell_type": "code",
   "execution_count": 139,
   "metadata": {},
   "outputs": [],
   "source": [
    "reads_mock[\"Mock\"] = reads_mock.mean(axis=1)\n",
    "reads_infected[\"Infected\"] = reads_infected.mean(axis=1)"
   ]
  },
  {
   "cell_type": "code",
   "execution_count": 140,
   "metadata": {},
   "outputs": [],
   "source": [
    "reads_mock = reads_mock.drop([\"X9.unique.bam\", \"X11.unique.bam\", \"X13.unique.bam\", \"X15.unique.bam\"], axis=1)"
   ]
  },
  {
   "cell_type": "code",
   "execution_count": 141,
   "metadata": {},
   "outputs": [],
   "source": [
    "reads_infected = reads_infected.drop([\"X10.unique.bam\", \"X12.unique.bam\", \"X14.unique.bam\", \"X16.unique.bam\"], axis=1)"
   ]
  },
  {
   "cell_type": "code",
   "execution_count": 142,
   "metadata": {},
   "outputs": [],
   "source": [
    "reads_mock[\"anti\"] = reads_mock[\"index\"].str[-6:]\n",
    "reads_infected[\"anti\"] = reads_infected[\"index\"].str[-6:]\n"
   ]
  },
  {
   "cell_type": "code",
   "execution_count": 143,
   "metadata": {},
   "outputs": [
    {
     "data": {
      "text/html": [
       "<div>\n",
       "<style scoped>\n",
       "    .dataframe tbody tr th:only-of-type {\n",
       "        vertical-align: middle;\n",
       "    }\n",
       "\n",
       "    .dataframe tbody tr th {\n",
       "        vertical-align: top;\n",
       "    }\n",
       "\n",
       "    .dataframe thead th {\n",
       "        text-align: right;\n",
       "    }\n",
       "</style>\n",
       "<table border=\"1\" class=\"dataframe\">\n",
       "  <thead>\n",
       "    <tr style=\"text-align: right;\">\n",
       "      <th></th>\n",
       "      <th>index</th>\n",
       "      <th>Mock</th>\n",
       "      <th>anti</th>\n",
       "    </tr>\n",
       "  </thead>\n",
       "  <tbody>\n",
       "    <tr>\n",
       "      <th>0</th>\n",
       "      <td>1.tRNA111-IleGAT</td>\n",
       "      <td>49.106116</td>\n",
       "      <td>IleGAT</td>\n",
       "    </tr>\n",
       "    <tr>\n",
       "      <th>1</th>\n",
       "      <td>1.tRNA225-SerGCT</td>\n",
       "      <td>24.910545</td>\n",
       "      <td>SerGCT</td>\n",
       "    </tr>\n",
       "    <tr>\n",
       "      <th>2</th>\n",
       "      <td>1.tRNA485-LysTTT</td>\n",
       "      <td>743.871027</td>\n",
       "      <td>LysTTT</td>\n",
       "    </tr>\n",
       "    <tr>\n",
       "      <th>3</th>\n",
       "      <td>1.tRNA672-ProAGG</td>\n",
       "      <td>559.425277</td>\n",
       "      <td>ProAGG</td>\n",
       "    </tr>\n",
       "    <tr>\n",
       "      <th>4</th>\n",
       "      <td>1.tRNA698-LeuCAG</td>\n",
       "      <td>24202.890671</td>\n",
       "      <td>LeuCAG</td>\n",
       "    </tr>\n",
       "  </tbody>\n",
       "</table>\n",
       "</div>"
      ],
      "text/plain": [
       "              index          Mock    anti\n",
       "0  1.tRNA111-IleGAT     49.106116  IleGAT\n",
       "1  1.tRNA225-SerGCT     24.910545  SerGCT\n",
       "2  1.tRNA485-LysTTT    743.871027  LysTTT\n",
       "3  1.tRNA672-ProAGG    559.425277  ProAGG\n",
       "4  1.tRNA698-LeuCAG  24202.890671  LeuCAG"
      ]
     },
     "execution_count": 143,
     "metadata": {},
     "output_type": "execute_result"
    }
   ],
   "source": [
    "reads_mock.head()"
   ]
  },
  {
   "cell_type": "code",
   "execution_count": 144,
   "metadata": {},
   "outputs": [
    {
     "data": {
      "text/html": [
       "<div>\n",
       "<style scoped>\n",
       "    .dataframe tbody tr th:only-of-type {\n",
       "        vertical-align: middle;\n",
       "    }\n",
       "\n",
       "    .dataframe tbody tr th {\n",
       "        vertical-align: top;\n",
       "    }\n",
       "\n",
       "    .dataframe thead th {\n",
       "        text-align: right;\n",
       "    }\n",
       "</style>\n",
       "<table border=\"1\" class=\"dataframe\">\n",
       "  <thead>\n",
       "    <tr style=\"text-align: right;\">\n",
       "      <th></th>\n",
       "      <th>index</th>\n",
       "      <th>Infected</th>\n",
       "      <th>anti</th>\n",
       "    </tr>\n",
       "  </thead>\n",
       "  <tbody>\n",
       "    <tr>\n",
       "      <th>0</th>\n",
       "      <td>1.tRNA111-IleGAT</td>\n",
       "      <td>133.137862</td>\n",
       "      <td>IleGAT</td>\n",
       "    </tr>\n",
       "    <tr>\n",
       "      <th>1</th>\n",
       "      <td>1.tRNA225-SerGCT</td>\n",
       "      <td>64.010289</td>\n",
       "      <td>SerGCT</td>\n",
       "    </tr>\n",
       "    <tr>\n",
       "      <th>2</th>\n",
       "      <td>1.tRNA485-LysTTT</td>\n",
       "      <td>763.043036</td>\n",
       "      <td>LysTTT</td>\n",
       "    </tr>\n",
       "    <tr>\n",
       "      <th>3</th>\n",
       "      <td>1.tRNA672-ProAGG</td>\n",
       "      <td>922.473755</td>\n",
       "      <td>ProAGG</td>\n",
       "    </tr>\n",
       "    <tr>\n",
       "      <th>4</th>\n",
       "      <td>1.tRNA698-LeuCAG</td>\n",
       "      <td>21191.007481</td>\n",
       "      <td>LeuCAG</td>\n",
       "    </tr>\n",
       "  </tbody>\n",
       "</table>\n",
       "</div>"
      ],
      "text/plain": [
       "              index      Infected    anti\n",
       "0  1.tRNA111-IleGAT    133.137862  IleGAT\n",
       "1  1.tRNA225-SerGCT     64.010289  SerGCT\n",
       "2  1.tRNA485-LysTTT    763.043036  LysTTT\n",
       "3  1.tRNA672-ProAGG    922.473755  ProAGG\n",
       "4  1.tRNA698-LeuCAG  21191.007481  LeuCAG"
      ]
     },
     "execution_count": 144,
     "metadata": {},
     "output_type": "execute_result"
    }
   ],
   "source": [
    "reads_infected.head()"
   ]
  },
  {
   "cell_type": "code",
   "execution_count": 145,
   "metadata": {},
   "outputs": [],
   "source": [
    "reads_mock = reads_mock.sort_values(by=[\"anti\"])\n",
    "reads_infected = reads_infected.sort_values(by=[\"anti\"])"
   ]
  },
  {
   "cell_type": "code",
   "execution_count": 150,
   "metadata": {},
   "outputs": [],
   "source": [
    "result = pd.merge(reads_mock, reads_infected, on=[\"index\"])\n",
    "result = result.drop([\"anti_x\", \"anti_y\"], axis=1)"
   ]
  },
  {
   "cell_type": "code",
   "execution_count": 152,
   "metadata": {},
   "outputs": [],
   "source": [
    "result = result.set_index([\"index\"])"
   ]
  },
  {
   "cell_type": "code",
   "execution_count": 154,
   "metadata": {},
   "outputs": [],
   "source": [
    "result.to_excel(\"normalized_counts.xls\")"
   ]
  },
  {
   "cell_type": "code",
   "execution_count": null,
   "metadata": {},
   "outputs": [],
   "source": []
  }
 ],
 "metadata": {
  "kernelspec": {
   "display_name": "Python 3",
   "language": "python",
   "name": "python3"
  },
  "language_info": {
   "codemirror_mode": {
    "name": "ipython",
    "version": 3
   },
   "file_extension": ".py",
   "mimetype": "text/x-python",
   "name": "python",
   "nbconvert_exporter": "python",
   "pygments_lexer": "ipython3",
   "version": "3.6.3"
  }
 },
 "nbformat": 4,
 "nbformat_minor": 2
}
