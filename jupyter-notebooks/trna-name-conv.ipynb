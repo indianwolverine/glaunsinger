{
 "cells": [
  {
   "cell_type": "code",
   "execution_count": 35,
   "metadata": {},
   "outputs": [],
   "source": [
    "import pandas as pd"
   ]
  },
  {
   "cell_type": "code",
   "execution_count": 36,
   "metadata": {},
   "outputs": [],
   "source": [
    "results = pd.read_table(\"../tyr-loci/tRNA_pre.bed12\", index_col=False,  names=[\"chromosome\", \"start\", \"end\", \"name\", \"reads\", \"plus_minus\", \"start_float\", \"end_float\", \"a\", \"b\", \"c\"])\n",
    "db = pd.read_table(\"../mm10-tRNAs-3/mm10-tRNAs.bed\", index_col=False,  names=[\"chromosome\", \"start\", \"end\", \"name\", \"reads\", \"plus_minus\", \"start_float\", \"end_float\", \"a\", \"b\", \"c\"])"
   ]
  },
  {
   "cell_type": "code",
   "execution_count": 37,
   "metadata": {},
   "outputs": [
    {
     "data": {
      "text/html": [
       "<div>\n",
       "<style scoped>\n",
       "    .dataframe tbody tr th:only-of-type {\n",
       "        vertical-align: middle;\n",
       "    }\n",
       "\n",
       "    .dataframe tbody tr th {\n",
       "        vertical-align: top;\n",
       "    }\n",
       "\n",
       "    .dataframe thead th {\n",
       "        text-align: right;\n",
       "    }\n",
       "</style>\n",
       "<table border=\"1\" class=\"dataframe\">\n",
       "  <thead>\n",
       "    <tr style=\"text-align: right;\">\n",
       "      <th></th>\n",
       "      <th>chromosome</th>\n",
       "      <th>start</th>\n",
       "      <th>end</th>\n",
       "      <th>name</th>\n",
       "    </tr>\n",
       "  </thead>\n",
       "  <tbody>\n",
       "    <tr>\n",
       "      <th>0</th>\n",
       "      <td>1</td>\n",
       "      <td>4824104</td>\n",
       "      <td>4824283</td>\n",
       "      <td>1.tRNA1-SerGCT</td>\n",
       "    </tr>\n",
       "    <tr>\n",
       "      <th>1</th>\n",
       "      <td>1</td>\n",
       "      <td>9690831</td>\n",
       "      <td>9691006</td>\n",
       "      <td>1.tRNA18-AsnGTT</td>\n",
       "    </tr>\n",
       "    <tr>\n",
       "      <th>2</th>\n",
       "      <td>1</td>\n",
       "      <td>23226031</td>\n",
       "      <td>23226201</td>\n",
       "      <td>1.tRNA62-SerGCT</td>\n",
       "    </tr>\n",
       "    <tr>\n",
       "      <th>3</th>\n",
       "      <td>1</td>\n",
       "      <td>30748847</td>\n",
       "      <td>30749022</td>\n",
       "      <td>1.tRNA70-SerGCT</td>\n",
       "    </tr>\n",
       "    <tr>\n",
       "      <th>4</th>\n",
       "      <td>1</td>\n",
       "      <td>30890593</td>\n",
       "      <td>30890768</td>\n",
       "      <td>1.tRNA71-SerGCT</td>\n",
       "    </tr>\n",
       "  </tbody>\n",
       "</table>\n",
       "</div>"
      ],
      "text/plain": [
       "  chromosome     start       end             name\n",
       "0          1   4824104   4824283   1.tRNA1-SerGCT\n",
       "1          1   9690831   9691006  1.tRNA18-AsnGTT\n",
       "2          1  23226031  23226201  1.tRNA62-SerGCT\n",
       "3          1  30748847  30749022  1.tRNA70-SerGCT\n",
       "4          1  30890593  30890768  1.tRNA71-SerGCT"
      ]
     },
     "execution_count": 37,
     "metadata": {},
     "output_type": "execute_result"
    }
   ],
   "source": [
    "results = results.drop([\"reads\", \"plus_minus\", \"start_float\", \"end_float\", \"a\", \"b\", \"c\"] , axis=1)\n",
    "results.head()"
   ]
  },
  {
   "cell_type": "code",
   "execution_count": 38,
   "metadata": {},
   "outputs": [
    {
     "data": {
      "text/html": [
       "<div>\n",
       "<style scoped>\n",
       "    .dataframe tbody tr th:only-of-type {\n",
       "        vertical-align: middle;\n",
       "    }\n",
       "\n",
       "    .dataframe tbody tr th {\n",
       "        vertical-align: top;\n",
       "    }\n",
       "\n",
       "    .dataframe thead th {\n",
       "        text-align: right;\n",
       "    }\n",
       "</style>\n",
       "<table border=\"1\" class=\"dataframe\">\n",
       "  <thead>\n",
       "    <tr style=\"text-align: right;\">\n",
       "      <th></th>\n",
       "      <th>chromosome</th>\n",
       "      <th>start</th>\n",
       "      <th>end</th>\n",
       "      <th>name</th>\n",
       "    </tr>\n",
       "  </thead>\n",
       "  <tbody>\n",
       "    <tr>\n",
       "      <th>0</th>\n",
       "      <td>chr1</td>\n",
       "      <td>34434811</td>\n",
       "      <td>34434883</td>\n",
       "      <td>tRNA-Glu-TTC-2-1</td>\n",
       "    </tr>\n",
       "    <tr>\n",
       "      <th>1</th>\n",
       "      <td>chr1</td>\n",
       "      <td>74816746</td>\n",
       "      <td>74816817</td>\n",
       "      <td>tRNA-Gly-GCC-3-1</td>\n",
       "    </tr>\n",
       "    <tr>\n",
       "      <th>2</th>\n",
       "      <td>chr1</td>\n",
       "      <td>75052561</td>\n",
       "      <td>75052633</td>\n",
       "      <td>tRNA-His-ATG-1-1</td>\n",
       "    </tr>\n",
       "    <tr>\n",
       "      <th>3</th>\n",
       "      <td>chr1</td>\n",
       "      <td>78297794</td>\n",
       "      <td>78297866</td>\n",
       "      <td>tRNA-Pro-AGG-2-1</td>\n",
       "    </tr>\n",
       "    <tr>\n",
       "      <th>4</th>\n",
       "      <td>chr1</td>\n",
       "      <td>105504638</td>\n",
       "      <td>105504710</td>\n",
       "      <td>tRNA-Val-GAC-1-1</td>\n",
       "    </tr>\n",
       "  </tbody>\n",
       "</table>\n",
       "</div>"
      ],
      "text/plain": [
       "  chromosome      start        end              name\n",
       "0       chr1   34434811   34434883  tRNA-Glu-TTC-2-1\n",
       "1       chr1   74816746   74816817  tRNA-Gly-GCC-3-1\n",
       "2       chr1   75052561   75052633  tRNA-His-ATG-1-1\n",
       "3       chr1   78297794   78297866  tRNA-Pro-AGG-2-1\n",
       "4       chr1  105504638  105504710  tRNA-Val-GAC-1-1"
      ]
     },
     "execution_count": 38,
     "metadata": {},
     "output_type": "execute_result"
    }
   ],
   "source": [
    "db = db.drop([\"reads\", \"plus_minus\", \"start_float\", \"end_float\", \"a\", \"b\", \"c\"] , axis=1)\n",
    "db.head()"
   ]
  },
  {
   "cell_type": "code",
   "execution_count": 39,
   "metadata": {},
   "outputs": [],
   "source": [
    "results[\"start\"] = results[\"start\"].apply(lambda x: x + 50)\n",
    "results[\"end\"] = results[\"end\"].apply(lambda x: x - 50)"
   ]
  },
  {
   "cell_type": "code",
   "execution_count": 44,
   "metadata": {},
   "outputs": [],
   "source": [
    "results = results.set_index(\"start\").join(db.set_index(\"start\"), lsuffix='_res', rsuffix='_db')"
   ]
  },
  {
   "cell_type": "code",
   "execution_count": 45,
   "metadata": {},
   "outputs": [],
   "source": [
    "results.to_excel(\"../excel/trna-name-conv.xls\")"
   ]
  },
  {
   "cell_type": "code",
   "execution_count": null,
   "metadata": {},
   "outputs": [],
   "source": []
  }
 ],
 "metadata": {
  "kernelspec": {
   "display_name": "Python 3",
   "language": "python",
   "name": "python3"
  },
  "language_info": {
   "codemirror_mode": {
    "name": "ipython",
    "version": 3
   },
   "file_extension": ".py",
   "mimetype": "text/x-python",
   "name": "python",
   "nbconvert_exporter": "python",
   "pygments_lexer": "ipython3",
   "version": "3.6.3"
  }
 },
 "nbformat": 4,
 "nbformat_minor": 2
}
